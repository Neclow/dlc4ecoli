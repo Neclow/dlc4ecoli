{
 "cells": [
  {
   "cell_type": "code",
   "execution_count": 96,
   "metadata": {},
   "outputs": [],
   "source": [
    "import os\n",
    "\n",
    "from glob import glob\n",
    "from pathlib import Path\n",
    "\n",
    "import matplotlib.ticker as mticker\n",
    "import matplotlib.patches as mpatches\n",
    "import matplotlib.pyplot as plt\n",
    "import numpy as np\n",
    "import pandas as pd\n",
    "import pingouin as pg\n",
    "import scienceplots\n",
    "import seaborn as sns\n",
    "import torch\n",
    "\n",
    "from scipy.signal import correlate, correlation_lags\n",
    "\n",
    "from dlc4ecoli.config import CAMERA_LABELS\n",
    "from dlc4ecoli.utils.signal import smooth_signal\n",
    "from dlc4ecoli.utils.plot import annotate_plot, clear_axes, set_size\n",
    "\n",
    "os.makedirs(\"img\", exist_ok=True)\n",
    "\n",
    "plt.style.use([\"science\", \"nature\"])\n",
    "plt.rcParams[\"font.size\"] = 10\n",
    "plt.rcParams[\"legend.title_fontsize\"] = 10\n",
    "plt.rcParams[\"legend.fontsize\"] = 10\n",
    "plt.rcParams[\"axes.labelsize\"] = 10\n",
    "plt.rcParams[\"xtick.labelsize\"] = 10\n",
    "plt.rcParams[\"ytick.labelsize\"] = 10\n",
    "\n",
    "PALETTE = dict(zip([\"E. coli\", \"Control\"], sns.color_palette(\"colorblind\").as_hex()))"
   ]
  },
  {
   "cell_type": "markdown",
   "metadata": {},
   "source": [
    "# Physiological analysis"
   ]
  },
  {
   "cell_type": "code",
   "execution_count": 3,
   "metadata": {},
   "outputs": [],
   "source": [
    "file = \"data/physio/physiological_data.xlsx\"\n",
    "\n",
    "boxes = {1: \"Control\", 4: \"E. coli\"}\n",
    "\n",
    "def try_float(x):\n",
    "    try:\n",
    "        return float(x)\n",
    "    except ValueError:\n",
    "        return float(\"nan\")"
   ]
  },
  {
   "cell_type": "markdown",
   "metadata": {},
   "source": [
    "## SAA\n",
    "\n",
    "### Data"
   ]
  },
  {
   "cell_type": "code",
   "execution_count": 4,
   "metadata": {},
   "outputs": [
    {
     "name": "stderr",
     "output_type": "stream",
     "text": [
      "/tmp/ipykernel_2081840/1313967420.py:17: FutureWarning: A value is trying to be set on a copy of a DataFrame or Series through chained assignment using an inplace method.\n",
      "The behavior will change in pandas 3.0. This inplace method will never work because the intermediate object on which we are setting values always behaves as a copy.\n",
      "\n",
      "For example, when doing 'df[col].method(value, inplace=True)', try using 'df.method({col: value}, inplace=True)' or df[col] = df[col].method(value) instead, to perform the operation inplace on the original object.\n",
      "\n",
      "\n",
      "  prot.Box.ffill(inplace=True)\n"
     ]
    },
    {
     "data": {
      "text/html": [
       "<div>\n",
       "<style scoped>\n",
       "    .dataframe tbody tr th:only-of-type {\n",
       "        vertical-align: middle;\n",
       "    }\n",
       "\n",
       "    .dataframe tbody tr th {\n",
       "        vertical-align: top;\n",
       "    }\n",
       "\n",
       "    .dataframe thead th {\n",
       "        text-align: right;\n",
       "    }\n",
       "</style>\n",
       "<table border=\"1\" class=\"dataframe\">\n",
       "  <thead>\n",
       "    <tr style=\"text-align: right;\">\n",
       "      <th></th>\n",
       "      <th>SID</th>\n",
       "      <th>OrderDate</th>\n",
       "      <th>TestName</th>\n",
       "      <th>Units</th>\n",
       "      <th>ResultString</th>\n",
       "      <th>Box</th>\n",
       "    </tr>\n",
       "  </thead>\n",
       "  <tbody>\n",
       "    <tr>\n",
       "      <th>17</th>\n",
       "      <td>2023-17-019</td>\n",
       "      <td>8/9/2023 1:24 PM</td>\n",
       "      <td>XSAA</td>\n",
       "      <td>mg/L</td>\n",
       "      <td>1.000000e-08</td>\n",
       "      <td>Control</td>\n",
       "    </tr>\n",
       "    <tr>\n",
       "      <th>19</th>\n",
       "      <td>2023-17-016</td>\n",
       "      <td>8/9/2023 1:24 PM</td>\n",
       "      <td>XSAA</td>\n",
       "      <td>mg/L</td>\n",
       "      <td>1.000000e-08</td>\n",
       "      <td>Control</td>\n",
       "    </tr>\n",
       "    <tr>\n",
       "      <th>20</th>\n",
       "      <td>2023-17-015</td>\n",
       "      <td>8/9/2023 1:24 PM</td>\n",
       "      <td>XSAA</td>\n",
       "      <td>mg/L</td>\n",
       "      <td>1.000000e-08</td>\n",
       "      <td>Control</td>\n",
       "    </tr>\n",
       "    <tr>\n",
       "      <th>21</th>\n",
       "      <td>2023-17-014</td>\n",
       "      <td>8/9/2023 1:24 PM</td>\n",
       "      <td>XSAA</td>\n",
       "      <td>mg/L</td>\n",
       "      <td>1.000000e-08</td>\n",
       "      <td>Control</td>\n",
       "    </tr>\n",
       "    <tr>\n",
       "      <th>22</th>\n",
       "      <td>2023-17-013</td>\n",
       "      <td>8/9/2023 1:24 PM</td>\n",
       "      <td>XSAA</td>\n",
       "      <td>mg/L</td>\n",
       "      <td>1.000000e-08</td>\n",
       "      <td>Control</td>\n",
       "    </tr>\n",
       "  </tbody>\n",
       "</table>\n",
       "</div>"
      ],
      "text/plain": [
       "            SID         OrderDate TestName Units  ResultString      Box\n",
       "17  2023-17-019  8/9/2023 1:24 PM     XSAA  mg/L  1.000000e-08  Control\n",
       "19  2023-17-016  8/9/2023 1:24 PM     XSAA  mg/L  1.000000e-08  Control\n",
       "20  2023-17-015  8/9/2023 1:24 PM     XSAA  mg/L  1.000000e-08  Control\n",
       "21  2023-17-014  8/9/2023 1:24 PM     XSAA  mg/L  1.000000e-08  Control\n",
       "22  2023-17-013  8/9/2023 1:24 PM     XSAA  mg/L  1.000000e-08  Control"
      ]
     },
     "execution_count": 4,
     "metadata": {},
     "output_type": "execute_result"
    }
   ],
   "source": [
    "prot = pd.read_excel(file, sheet_name=\"Acute phase protein\")\n",
    "\n",
    "prot.columns = [\n",
    "    \"SID\",\n",
    "    \"OrderDate\",\n",
    "    \"TestName\",\n",
    "    \"Units\",\n",
    "    \"ResultString\",\n",
    "    \"Column1\",\n",
    "    \"Column2\",\n",
    "    \"7\",\n",
    "    \"Box\",\n",
    "]\n",
    "\n",
    "prot.drop([\"7\", \"Column1\", \"Column2\"], axis=1, inplace=True)\n",
    "\n",
    "prot.Box.ffill(inplace=True)\n",
    "\n",
    "prot.ResultString = prot.ResultString.replace(\"< 0.0\", 1e-8).astype(float)\n",
    "\n",
    "prot.Box = prot.Box.apply(lambda x: boxes[int(x.split(\"BOX \")[1])])\n",
    "\n",
    "prot.sort_values(by=\"Box\", inplace=True)\n",
    "\n",
    "prot.dropna(inplace=True)\n",
    "\n",
    "prot.head()"
   ]
  },
  {
   "cell_type": "markdown",
   "metadata": {},
   "source": [
    "### Statistical analysis"
   ]
  },
  {
   "cell_type": "markdown",
   "metadata": {},
   "source": [
    "#### QQ-plot"
   ]
  },
  {
   "cell_type": "code",
   "execution_count": 5,
   "metadata": {},
   "outputs": [
    {
     "data": {
      "image/png": "[encoded data removed]",
      "text/plain": [
       "<Figure size 678.013x678.013 with 2 Axes>"
      ]
     },
     "metadata": {},
     "output_type": "display_data"
    }
   ],
   "source": [
    "boxes_ = set(prot.Box)\n",
    "\n",
    "fig, axs = plt.subplots(1, len(boxes_), figsize=set_size(490, \"s\"))\n",
    "\n",
    "for i, box in enumerate(boxes_):\n",
    "    try:\n",
    "        pg.qqplot(x=prot.query(\"Box == @box\").ResultString, ax=axs[i])\n",
    "        axs[i].set_title(box.replace(\"\\n\", \" \"))\n",
    "\n",
    "        if i > 0:\n",
    "            axs[i].set_ylabel(\"\")\n",
    "    except ValueError:\n",
    "        axs[i].remove()\n",
    "        continue\n",
    "\n",
    "fig.tight_layout()\n",
    "clear_axes()\n",
    "plt.show()"
   ]
  },
  {
   "cell_type": "markdown",
   "metadata": {},
   "source": [
    "#### Levene's test"
   ]
  },
  {
   "cell_type": "code",
   "execution_count": 6,
   "metadata": {},
   "outputs": [
    {
     "data": {
      "text/html": [
       "<div>\n",
       "<style scoped>\n",
       "    .dataframe tbody tr th:only-of-type {\n",
       "        vertical-align: middle;\n",
       "    }\n",
       "\n",
       "    .dataframe tbody tr th {\n",
       "        vertical-align: top;\n",
       "    }\n",
       "\n",
       "    .dataframe thead th {\n",
       "        text-align: right;\n",
       "    }\n",
       "</style>\n",
       "<table border=\"1\" class=\"dataframe\">\n",
       "  <thead>\n",
       "    <tr style=\"text-align: right;\">\n",
       "      <th></th>\n",
       "      <th>W</th>\n",
       "      <th>pval</th>\n",
       "      <th>equal_var</th>\n",
       "    </tr>\n",
       "  </thead>\n",
       "  <tbody>\n",
       "    <tr>\n",
       "      <th>levene</th>\n",
       "      <td>18.723461</td>\n",
       "      <td>0.000132</td>\n",
       "      <td>False</td>\n",
       "    </tr>\n",
       "  </tbody>\n",
       "</table>\n",
       "</div>"
      ],
      "text/plain": [
       "                W      pval  equal_var\n",
       "levene  18.723461  0.000132      False"
      ]
     },
     "execution_count": 6,
     "metadata": {},
     "output_type": "execute_result"
    }
   ],
   "source": [
    "pg.homoscedasticity(data=prot.dropna(), dv=\"ResultString\", group=\"Box\")"
   ]
  },
  {
   "cell_type": "markdown",
   "metadata": {},
   "source": [
    "#### ANOVA (Kruskal-Wallis)"
   ]
  },
  {
   "cell_type": "code",
   "execution_count": 7,
   "metadata": {},
   "outputs": [
    {
     "data": {
      "text/html": [
       "<div>\n",
       "<style scoped>\n",
       "    .dataframe tbody tr th:only-of-type {\n",
       "        vertical-align: middle;\n",
       "    }\n",
       "\n",
       "    .dataframe tbody tr th {\n",
       "        vertical-align: top;\n",
       "    }\n",
       "\n",
       "    .dataframe thead th {\n",
       "        text-align: right;\n",
       "    }\n",
       "</style>\n",
       "<table border=\"1\" class=\"dataframe\">\n",
       "  <thead>\n",
       "    <tr style=\"text-align: right;\">\n",
       "      <th></th>\n",
       "      <th>Source</th>\n",
       "      <th>ddof1</th>\n",
       "      <th>H</th>\n",
       "      <th>p-unc</th>\n",
       "    </tr>\n",
       "  </thead>\n",
       "  <tbody>\n",
       "    <tr>\n",
       "      <th>Kruskal</th>\n",
       "      <td>Box</td>\n",
       "      <td>1</td>\n",
       "      <td>17.732604</td>\n",
       "      <td>0.000025</td>\n",
       "    </tr>\n",
       "  </tbody>\n",
       "</table>\n",
       "</div>"
      ],
      "text/plain": [
       "        Source  ddof1          H     p-unc\n",
       "Kruskal    Box      1  17.732604  0.000025"
      ]
     },
     "execution_count": 7,
     "metadata": {},
     "output_type": "execute_result"
    }
   ],
   "source": [
    "aov = pg.kruskal(data=prot, dv=\"ResultString\", between=\"Box\", detailed=True)\n",
    "\n",
    "aov"
   ]
  },
  {
   "cell_type": "markdown",
   "metadata": {},
   "source": [
    "#### Pairwise non-parametric tests"
   ]
  },
  {
   "cell_type": "code",
   "execution_count": null,
   "metadata": {},
   "outputs": [
    {
     "data": {
      "text/html": [
       "<div>\n",
       "<style scoped>\n",
       "    .dataframe tbody tr th:only-of-type {\n",
       "        vertical-align: middle;\n",
       "    }\n",
       "\n",
       "    .dataframe tbody tr th {\n",
       "        vertical-align: top;\n",
       "    }\n",
       "\n",
       "    .dataframe thead th {\n",
       "        text-align: right;\n",
       "    }\n",
       "</style>\n",
       "<table border=\"1\" class=\"dataframe\">\n",
       "  <thead>\n",
       "    <tr style=\"text-align: right;\">\n",
       "      <th></th>\n",
       "      <th>Contrast</th>\n",
       "      <th>A</th>\n",
       "      <th>B</th>\n",
       "      <th>Paired</th>\n",
       "      <th>Parametric</th>\n",
       "      <th>U-val</th>\n",
       "      <th>alternative</th>\n",
       "      <th>p-unc</th>\n",
       "      <th>cohen</th>\n",
       "    </tr>\n",
       "  </thead>\n",
       "  <tbody>\n",
       "    <tr>\n",
       "      <th>0</th>\n",
       "      <td>Box</td>\n",
       "      <td>Control</td>\n",
       "      <td>E. coli</td>\n",
       "      <td>False</td>\n",
       "      <td>False</td>\n",
       "      <td>45.0</td>\n",
       "      <td>two-sided</td>\n",
       "      <td>0.000028</td>\n",
       "      <td>-1.152561</td>\n",
       "    </tr>\n",
       "  </tbody>\n",
       "</table>\n",
       "</div>"
      ],
      "text/plain": [
       "  Contrast        A        B  Paired  Parametric  U-val alternative     p-unc  \\\n",
       "0      Box  Control  E. coli   False       False   45.0   two-sided  0.000028   \n",
       "\n",
       "      cohen  \n",
       "0 -1.152561  "
      ]
     },
     "execution_count": 8,
     "metadata": {},
     "output_type": "execute_result"
    }
   ],
   "source": [
    "stats = pg.pairwise_tests(\n",
    "    data=prot,\n",
    "    dv=\"ResultString\",\n",
    "    between=\"Box\",\n",
    "    effsize=\"cohen\",\n",
    "    parametric=False,\n",
    ")\n",
    "\n",
    "stats"
   ]
  },
  {
   "cell_type": "markdown",
   "metadata": {},
   "source": [
    "### Plot"
   ]
  },
  {
   "cell_type": "code",
   "execution_count": 9,
   "metadata": {},
   "outputs": [
    {
     "name": "stderr",
     "output_type": "stream",
     "text": [
      "/tmp/ipykernel_2081840/2611681884.py:5: FutureWarning: \n",
      "\n",
      "Passing `palette` without assigning `hue` is deprecated and will be removed in v0.14.0. Assign the `x` variable to `hue` and set `legend=False` for the same effect.\n",
      "\n",
      "  sns.boxplot(**plot_params, palette=PALETTE, showfliers=False)\n"
     ]
    },
    {
     "name": "stdout",
     "output_type": "stream",
     "text": [
      "p-value annotation legend:\n",
      "      ns: 5.00e-02 < p <= 1.00e+00\n",
      "       *: 1.00e-02 < p <= 5.00e-02\n",
      "      **: 1.00e-03 < p <= 1.00e-02\n",
      "     ***: p <= 1.00e-03\n",
      "\n",
      "Control vs. E. coli: Custom statistical test, P_val:2.771e-05\n"
     ]
    },
    {
     "data": {
      "image/png": "[encoded data removed]",
      "text/plain": [
       "<Figure size 262.903x262.903 with 1 Axes>"
      ]
     },
     "metadata": {},
     "output_type": "display_data"
    }
   ],
   "source": [
    "fig, ax = plt.subplots(figsize=set_size(190, \"s\"))\n",
    "\n",
    "plot_params = dict(x=\"Box\", y=\"ResultString\", data=prot)\n",
    "\n",
    "sns.boxplot(**plot_params, palette=PALETTE, showfliers=False)\n",
    "sns.stripplot(**plot_params, color=\"k\", alpha=0.25)\n",
    "\n",
    "annotate_plot(ax, plot_params, stats[\"p-unc\"])\n",
    "\n",
    "plt.ylabel(\"Serum amyloid A (mg/L)\")\n",
    "plt.xlabel(\"\")\n",
    "clear_axes()\n",
    "plt.savefig(\"img/saa.pdf\", format=\"pdf\", bbox_inches=\"tight\", pad_inches=0)\n",
    "plt.show()"
   ]
  },
  {
   "cell_type": "markdown",
   "metadata": {},
   "source": [
    "## Lesions"
   ]
  },
  {
   "cell_type": "markdown",
   "metadata": {},
   "source": [
    "### Data"
   ]
  },
  {
   "cell_type": "code",
   "execution_count": 11,
   "metadata": {},
   "outputs": [
    {
     "name": "stdout",
     "output_type": "stream",
     "text": [
      "(39, 31)\n"
     ]
    },
    {
     "data": {
      "text/html": [
       "<div>\n",
       "<style scoped>\n",
       "    .dataframe tbody tr th:only-of-type {\n",
       "        vertical-align: middle;\n",
       "    }\n",
       "\n",
       "    .dataframe tbody tr th {\n",
       "        vertical-align: top;\n",
       "    }\n",
       "\n",
       "    .dataframe thead th {\n",
       "        text-align: right;\n",
       "    }\n",
       "</style>\n",
       "<table border=\"1\" class=\"dataframe\">\n",
       "  <thead>\n",
       "    <tr style=\"text-align: right;\">\n",
       "      <th></th>\n",
       "      <th>Box</th>\n",
       "      <th>Peritoneum</th>\n",
       "      <th>Peritoneum</th>\n",
       "      <th>Peritoneum</th>\n",
       "      <th>Peritoneum</th>\n",
       "      <th>Peritoneum</th>\n",
       "      <th>Liver</th>\n",
       "      <th>Airsac</th>\n",
       "      <th>Airsac</th>\n",
       "      <th>Airsac</th>\n",
       "      <th>...</th>\n",
       "      <th>Spleen</th>\n",
       "      <th>Spleen</th>\n",
       "      <th>Spleen</th>\n",
       "      <th>Total score</th>\n",
       "      <th>body weight (grams)</th>\n",
       "      <th>Lung weight (g)</th>\n",
       "      <th>Spleen weight(G)</th>\n",
       "      <th>Lung/body weight</th>\n",
       "      <th>Spleen/bodyweight</th>\n",
       "      <th>Spleen/bodyweight</th>\n",
       "    </tr>\n",
       "  </thead>\n",
       "  <tbody>\n",
       "    <tr>\n",
       "      <th>0</th>\n",
       "      <td>Control</td>\n",
       "      <td>0.0</td>\n",
       "      <td>0.0</td>\n",
       "      <td>0.0</td>\n",
       "      <td>0.0</td>\n",
       "      <td>0.0</td>\n",
       "      <td>0.0</td>\n",
       "      <td>0.0</td>\n",
       "      <td>0.0</td>\n",
       "      <td>0.0</td>\n",
       "      <td>...</td>\n",
       "      <td>0.0</td>\n",
       "      <td>0.0</td>\n",
       "      <td>0.0</td>\n",
       "      <td>0.0</td>\n",
       "      <td>1846.0</td>\n",
       "      <td>13.98</td>\n",
       "      <td>2.29</td>\n",
       "      <td>0.007573</td>\n",
       "      <td>0.001241</td>\n",
       "      <td>NaN</td>\n",
       "    </tr>\n",
       "    <tr>\n",
       "      <th>18</th>\n",
       "      <td>Control</td>\n",
       "      <td>0.0</td>\n",
       "      <td>0.0</td>\n",
       "      <td>0.0</td>\n",
       "      <td>0.0</td>\n",
       "      <td>0.0</td>\n",
       "      <td>0.0</td>\n",
       "      <td>0.0</td>\n",
       "      <td>0.0</td>\n",
       "      <td>0.0</td>\n",
       "      <td>...</td>\n",
       "      <td>0.0</td>\n",
       "      <td>0.0</td>\n",
       "      <td>0.0</td>\n",
       "      <td>0.0</td>\n",
       "      <td>1795.0</td>\n",
       "      <td>14.24</td>\n",
       "      <td>1.36</td>\n",
       "      <td>0.007933</td>\n",
       "      <td>0.000758</td>\n",
       "      <td>NaN</td>\n",
       "    </tr>\n",
       "    <tr>\n",
       "      <th>17</th>\n",
       "      <td>Control</td>\n",
       "      <td>0.0</td>\n",
       "      <td>0.0</td>\n",
       "      <td>0.0</td>\n",
       "      <td>0.0</td>\n",
       "      <td>0.0</td>\n",
       "      <td>0.0</td>\n",
       "      <td>0.0</td>\n",
       "      <td>0.0</td>\n",
       "      <td>0.0</td>\n",
       "      <td>...</td>\n",
       "      <td>1.0</td>\n",
       "      <td>0.0</td>\n",
       "      <td>1.0</td>\n",
       "      <td>1.0</td>\n",
       "      <td>2207.0</td>\n",
       "      <td>16.13</td>\n",
       "      <td>1.78</td>\n",
       "      <td>0.007309</td>\n",
       "      <td>0.000807</td>\n",
       "      <td>NaN</td>\n",
       "    </tr>\n",
       "    <tr>\n",
       "      <th>16</th>\n",
       "      <td>Control</td>\n",
       "      <td>0.0</td>\n",
       "      <td>0.0</td>\n",
       "      <td>0.0</td>\n",
       "      <td>0.0</td>\n",
       "      <td>0.0</td>\n",
       "      <td>0.0</td>\n",
       "      <td>0.0</td>\n",
       "      <td>0.0</td>\n",
       "      <td>0.0</td>\n",
       "      <td>...</td>\n",
       "      <td>1.0</td>\n",
       "      <td>0.0</td>\n",
       "      <td>1.0</td>\n",
       "      <td>1.0</td>\n",
       "      <td>2085.0</td>\n",
       "      <td>17.41</td>\n",
       "      <td>1.60</td>\n",
       "      <td>0.008350</td>\n",
       "      <td>0.000767</td>\n",
       "      <td>NaN</td>\n",
       "    </tr>\n",
       "    <tr>\n",
       "      <th>15</th>\n",
       "      <td>Control</td>\n",
       "      <td>0.0</td>\n",
       "      <td>0.0</td>\n",
       "      <td>0.0</td>\n",
       "      <td>0.0</td>\n",
       "      <td>0.0</td>\n",
       "      <td>0.0</td>\n",
       "      <td>0.0</td>\n",
       "      <td>0.0</td>\n",
       "      <td>0.0</td>\n",
       "      <td>...</td>\n",
       "      <td>0.0</td>\n",
       "      <td>0.0</td>\n",
       "      <td>0.0</td>\n",
       "      <td>0.0</td>\n",
       "      <td>2135.0</td>\n",
       "      <td>15.49</td>\n",
       "      <td>1.93</td>\n",
       "      <td>0.007255</td>\n",
       "      <td>0.000904</td>\n",
       "      <td>NaN</td>\n",
       "    </tr>\n",
       "  </tbody>\n",
       "</table>\n",
       "<p>5 rows × 31 columns</p>\n",
       "</div>"
      ],
      "text/plain": [
       "        Box  Peritoneum  Peritoneum  Peritoneum  Peritoneum  Peritoneum  \\\n",
       "0   Control         0.0         0.0         0.0         0.0         0.0   \n",
       "18  Control         0.0         0.0         0.0         0.0         0.0   \n",
       "17  Control         0.0         0.0         0.0         0.0         0.0   \n",
       "16  Control         0.0         0.0         0.0         0.0         0.0   \n",
       "15  Control         0.0         0.0         0.0         0.0         0.0   \n",
       "\n",
       "    Liver  Airsac  Airsac  Airsac  ...  Spleen  Spleen  Spleen  Total score  \\\n",
       "0     0.0     0.0     0.0     0.0  ...     0.0     0.0     0.0          0.0   \n",
       "18    0.0     0.0     0.0     0.0  ...     0.0     0.0     0.0          0.0   \n",
       "17    0.0     0.0     0.0     0.0  ...     1.0     0.0     1.0          1.0   \n",
       "16    0.0     0.0     0.0     0.0  ...     1.0     0.0     1.0          1.0   \n",
       "15    0.0     0.0     0.0     0.0  ...     0.0     0.0     0.0          0.0   \n",
       "\n",
       "    body weight (grams)  Lung weight (g)  Spleen weight(G)  Lung/body weight  \\\n",
       "0                1846.0            13.98              2.29          0.007573   \n",
       "18               1795.0            14.24              1.36          0.007933   \n",
       "17               2207.0            16.13              1.78          0.007309   \n",
       "16               2085.0            17.41              1.60          0.008350   \n",
       "15               2135.0            15.49              1.93          0.007255   \n",
       "\n",
       "    Spleen/bodyweight  Spleen/bodyweight  \n",
       "0            0.001241                NaN  \n",
       "18           0.000758                NaN  \n",
       "17           0.000807                NaN  \n",
       "16           0.000767                NaN  \n",
       "15           0.000904                NaN  \n",
       "\n",
       "[5 rows x 31 columns]"
      ]
     },
     "execution_count": 11,
     "metadata": {},
     "output_type": "execute_result"
    }
   ],
   "source": [
    "les = pd.read_excel(file, sheet_name=\"Lesion scores\", header=[0, 1, 2])\n",
    "\n",
    "les.drop(les.columns[[1, 2, -2]], axis=1, inplace=True)\n",
    "\n",
    "les.dropna(how=\"all\", inplace=True)\n",
    "\n",
    "les = les.droplevel([0, 2], axis=1)\n",
    "\n",
    "les.columns = [\"Box\", *les.columns[1:]]\n",
    "\n",
    "les.Box = les.Box.astype(int).replace(boxes)\n",
    "\n",
    "les = les.sort_values(by=\"Box\").dropna(subset=\"Box\")\n",
    "\n",
    "print(les.shape)\n",
    "\n",
    "les.head()"
   ]
  },
  {
   "cell_type": "markdown",
   "metadata": {},
   "source": [
    "### Statistical analysis\n",
    "#### QQ-plot"
   ]
  },
  {
   "cell_type": "code",
   "execution_count": 12,
   "metadata": {},
   "outputs": [
    {
     "data": {
      "image/png": "[encoded data removed]",
      "text/plain": [
       "<Figure size 678.013x678.013 with 2 Axes>"
      ]
     },
     "metadata": {},
     "output_type": "display_data"
    }
   ],
   "source": [
    "boxes_ = set(les.Box)\n",
    "\n",
    "fig, axs = plt.subplots(1, len(boxes_), figsize=set_size(490, \"s\"))\n",
    "\n",
    "for i, box in enumerate(boxes_):\n",
    "    try:\n",
    "        pg.qqplot(x=les.query(\"Box == @box\").loc[:, \"Total score\"], ax=axs[i])\n",
    "        axs[i].set_title(box.replace(\"\\n\", \" \"))\n",
    "\n",
    "        if i > 0:\n",
    "            axs[i].set_ylabel(\"\")\n",
    "    except ValueError:\n",
    "        axs[i].remove()\n",
    "        continue\n",
    "\n",
    "fig.tight_layout()\n",
    "clear_axes()\n",
    "plt.show()"
   ]
  },
  {
   "cell_type": "markdown",
   "metadata": {},
   "source": [
    "#### Levene's test"
   ]
  },
  {
   "cell_type": "code",
   "execution_count": 14,
   "metadata": {},
   "outputs": [
    {
     "data": {
      "text/html": [
       "<div>\n",
       "<style scoped>\n",
       "    .dataframe tbody tr th:only-of-type {\n",
       "        vertical-align: middle;\n",
       "    }\n",
       "\n",
       "    .dataframe tbody tr th {\n",
       "        vertical-align: top;\n",
       "    }\n",
       "\n",
       "    .dataframe thead th {\n",
       "        text-align: right;\n",
       "    }\n",
       "</style>\n",
       "<table border=\"1\" class=\"dataframe\">\n",
       "  <thead>\n",
       "    <tr style=\"text-align: right;\">\n",
       "      <th></th>\n",
       "      <th>W</th>\n",
       "      <th>pval</th>\n",
       "      <th>equal_var</th>\n",
       "    </tr>\n",
       "  </thead>\n",
       "  <tbody>\n",
       "    <tr>\n",
       "      <th>levene</th>\n",
       "      <td>30.324807</td>\n",
       "      <td>0.000003</td>\n",
       "      <td>False</td>\n",
       "    </tr>\n",
       "  </tbody>\n",
       "</table>\n",
       "</div>"
      ],
      "text/plain": [
       "                W      pval  equal_var\n",
       "levene  30.324807  0.000003      False"
      ]
     },
     "execution_count": 14,
     "metadata": {},
     "output_type": "execute_result"
    }
   ],
   "source": [
    "pg.homoscedasticity(data=les, dv=\"Total score\", group=\"Box\")"
   ]
  },
  {
   "cell_type": "markdown",
   "metadata": {},
   "source": [
    "#### ANOVA (Kruskal-Wallis)"
   ]
  },
  {
   "cell_type": "code",
   "execution_count": 15,
   "metadata": {},
   "outputs": [
    {
     "data": {
      "text/html": [
       "<div>\n",
       "<style scoped>\n",
       "    .dataframe tbody tr th:only-of-type {\n",
       "        vertical-align: middle;\n",
       "    }\n",
       "\n",
       "    .dataframe tbody tr th {\n",
       "        vertical-align: top;\n",
       "    }\n",
       "\n",
       "    .dataframe thead th {\n",
       "        text-align: right;\n",
       "    }\n",
       "</style>\n",
       "<table border=\"1\" class=\"dataframe\">\n",
       "  <thead>\n",
       "    <tr style=\"text-align: right;\">\n",
       "      <th></th>\n",
       "      <th>Source</th>\n",
       "      <th>ddof1</th>\n",
       "      <th>H</th>\n",
       "      <th>p-unc</th>\n",
       "    </tr>\n",
       "  </thead>\n",
       "  <tbody>\n",
       "    <tr>\n",
       "      <th>Kruskal</th>\n",
       "      <td>Box</td>\n",
       "      <td>1</td>\n",
       "      <td>19.521762</td>\n",
       "      <td>0.00001</td>\n",
       "    </tr>\n",
       "  </tbody>\n",
       "</table>\n",
       "</div>"
      ],
      "text/plain": [
       "        Source  ddof1          H    p-unc\n",
       "Kruskal    Box      1  19.521762  0.00001"
      ]
     },
     "execution_count": 15,
     "metadata": {},
     "output_type": "execute_result"
    }
   ],
   "source": [
    "aov = pg.kruskal(data=les, dv=\"Total score\", between=\"Box\")\n",
    "\n",
    "aov"
   ]
  },
  {
   "cell_type": "markdown",
   "metadata": {},
   "source": [
    "#### Pairwise non-parametric tests"
   ]
  },
  {
   "cell_type": "code",
   "execution_count": 16,
   "metadata": {},
   "outputs": [
    {
     "data": {
      "text/html": [
       "<div>\n",
       "<style scoped>\n",
       "    .dataframe tbody tr th:only-of-type {\n",
       "        vertical-align: middle;\n",
       "    }\n",
       "\n",
       "    .dataframe tbody tr th {\n",
       "        vertical-align: top;\n",
       "    }\n",
       "\n",
       "    .dataframe thead th {\n",
       "        text-align: right;\n",
       "    }\n",
       "</style>\n",
       "<table border=\"1\" class=\"dataframe\">\n",
       "  <thead>\n",
       "    <tr style=\"text-align: right;\">\n",
       "      <th></th>\n",
       "      <th>Contrast</th>\n",
       "      <th>A</th>\n",
       "      <th>B</th>\n",
       "      <th>Paired</th>\n",
       "      <th>Parametric</th>\n",
       "      <th>U-val</th>\n",
       "      <th>alternative</th>\n",
       "      <th>p-unc</th>\n",
       "      <th>cohen</th>\n",
       "    </tr>\n",
       "  </thead>\n",
       "  <tbody>\n",
       "    <tr>\n",
       "      <th>0</th>\n",
       "      <td>Box</td>\n",
       "      <td>Control</td>\n",
       "      <td>E. coli</td>\n",
       "      <td>False</td>\n",
       "      <td>False</td>\n",
       "      <td>39.5</td>\n",
       "      <td>two-sided</td>\n",
       "      <td>0.000011</td>\n",
       "      <td>-2.120693</td>\n",
       "    </tr>\n",
       "  </tbody>\n",
       "</table>\n",
       "</div>"
      ],
      "text/plain": [
       "  Contrast        A        B  Paired  Parametric  U-val alternative     p-unc  \\\n",
       "0      Box  Control  E. coli   False       False   39.5   two-sided  0.000011   \n",
       "\n",
       "      cohen  \n",
       "0 -2.120693  "
      ]
     },
     "execution_count": 16,
     "metadata": {},
     "output_type": "execute_result"
    }
   ],
   "source": [
    "stats = pg.pairwise_tests(\n",
    "    data=les,\n",
    "    dv=\"Total score\",\n",
    "    between=\"Box\",\n",
    "    effsize=\"cohen\",\n",
    "    parametric=False,\n",
    "    padjust=\"fdr_bh\",\n",
    ")\n",
    "\n",
    "stats"
   ]
  },
  {
   "cell_type": "markdown",
   "metadata": {},
   "source": [
    "### Plot"
   ]
  },
  {
   "cell_type": "code",
   "execution_count": 17,
   "metadata": {},
   "outputs": [
    {
     "name": "stdout",
     "output_type": "stream",
     "text": [
      "p-value annotation legend:\n",
      "      ns: 5.00e-02 < p <= 1.00e+00\n",
      "       *: 1.00e-02 < p <= 5.00e-02\n",
      "      **: 1.00e-03 < p <= 1.00e-02\n",
      "     ***: p <= 1.00e-03\n",
      "\n",
      "Control vs. E. coli: Custom statistical test, P_val:1.064e-05\n"
     ]
    },
    {
     "data": {
      "image/png": "[encoded data removed]",
      "text/plain": [
       "<Figure size 262.903x262.903 with 1 Axes>"
      ]
     },
     "metadata": {},
     "output_type": "display_data"
    }
   ],
   "source": [
    "fig, ax = plt.subplots(figsize=set_size(190, \"s\"))\n",
    "\n",
    "plot_params = dict(x=\"Box\", y=\"Total score\", data=les, order=sorted(PALETTE.keys()))\n",
    "\n",
    "sns.boxplot(**plot_params, palette=PALETTE, showfliers=False)\n",
    "\n",
    "sns.stripplot(\n",
    "    **plot_params,\n",
    "    color=\"k\",\n",
    "    alpha=0.25,\n",
    ")\n",
    "\n",
    "annotate_plot(ax, plot_params, stats[\"p-unc\"])\n",
    "\n",
    "plt.ylabel(\"Total lesion score (A.U.)\")\n",
    "plt.xlabel(\"\")\n",
    "clear_axes()\n",
    "plt.savefig(\"img/lesion.pdf\", format=\"pdf\", bbox_inches=\"tight\", pad_inches=0)\n",
    "\n",
    "plt.show()"
   ]
  },
  {
   "cell_type": "markdown",
   "metadata": {},
   "source": [
    "## cfu\n",
    "\n",
    "### Data"
   ]
  },
  {
   "cell_type": "code",
   "execution_count": 18,
   "metadata": {},
   "outputs": [
    {
     "data": {
      "text/html": [
       "<div>\n",
       "<style scoped>\n",
       "    .dataframe tbody tr th:only-of-type {\n",
       "        vertical-align: middle;\n",
       "    }\n",
       "\n",
       "    .dataframe tbody tr th {\n",
       "        vertical-align: top;\n",
       "    }\n",
       "\n",
       "    .dataframe thead th {\n",
       "        text-align: right;\n",
       "    }\n",
       "</style>\n",
       "<table border=\"1\" class=\"dataframe\">\n",
       "  <thead>\n",
       "    <tr style=\"text-align: right;\">\n",
       "      <th></th>\n",
       "      <th>Box</th>\n",
       "      <th>cfu</th>\n",
       "    </tr>\n",
       "  </thead>\n",
       "  <tbody>\n",
       "    <tr>\n",
       "      <th>0</th>\n",
       "      <td>Control</td>\n",
       "      <td>0.000</td>\n",
       "    </tr>\n",
       "    <tr>\n",
       "      <th>18</th>\n",
       "      <td>Control</td>\n",
       "      <td>0.000</td>\n",
       "    </tr>\n",
       "    <tr>\n",
       "      <th>17</th>\n",
       "      <td>Control</td>\n",
       "      <td>7666.667</td>\n",
       "    </tr>\n",
       "    <tr>\n",
       "      <th>16</th>\n",
       "      <td>Control</td>\n",
       "      <td>0.000</td>\n",
       "    </tr>\n",
       "    <tr>\n",
       "      <th>15</th>\n",
       "      <td>Control</td>\n",
       "      <td>0.000</td>\n",
       "    </tr>\n",
       "  </tbody>\n",
       "</table>\n",
       "</div>"
      ],
      "text/plain": [
       "        Box       cfu\n",
       "0   Control     0.000\n",
       "18  Control     0.000\n",
       "17  Control  7666.667\n",
       "16  Control     0.000\n",
       "15  Control     0.000"
      ]
     },
     "execution_count": 18,
     "metadata": {},
     "output_type": "execute_result"
    }
   ],
   "source": [
    "cfu = (\n",
    "    pd.read_excel(file, sheet_name=\"cfu per gram lung\", header=[0, 1, 2])\n",
    "    .dropna(how=\"all\")\n",
    "    .iloc[:, [0, -2]]\n",
    "    .droplevel([0, 1], axis=1)\n",
    ")\n",
    "\n",
    "cfu.columns = [\"Box\", \"cfu\"]\n",
    "\n",
    "cfu.dropna(subset=\"Box\", inplace=True)\n",
    "\n",
    "cfu.query(\"Box != 5\", inplace=True)\n",
    "\n",
    "cfu.Box = cfu.Box.astype(int).replace(boxes)\n",
    "\n",
    "cfu.sort_values(by=\"Box\", inplace=True)\n",
    "\n",
    "cfu.head()"
   ]
  },
  {
   "cell_type": "markdown",
   "metadata": {},
   "source": [
    "### Statistical analysis\n",
    "#### QQ-plot"
   ]
  },
  {
   "cell_type": "code",
   "execution_count": 19,
   "metadata": {},
   "outputs": [
    {
     "data": {
      "image/png": "[encoded data removed]",
      "text/plain": [
       "<Figure size 678.013x678.013 with 2 Axes>"
      ]
     },
     "metadata": {},
     "output_type": "display_data"
    }
   ],
   "source": [
    "boxes_ = set(cfu.Box)\n",
    "\n",
    "fig, axs = plt.subplots(1, len(boxes_), figsize=set_size(490, \"s\"))\n",
    "\n",
    "for i, box in enumerate(boxes_):\n",
    "    try:\n",
    "        pg.qqplot(x=cfu.query(\"Box == @box\").loc[:, \"cfu\"], ax=axs[i])\n",
    "        axs[i].set_title(box.replace(\"\\n\", \" \"))\n",
    "\n",
    "        if i > 0:\n",
    "            axs[i].set_ylabel(\"\")\n",
    "    except ValueError:\n",
    "        axs[i].remove()\n",
    "        continue\n",
    "\n",
    "fig.tight_layout()\n",
    "clear_axes()\n",
    "plt.show()"
   ]
  },
  {
   "cell_type": "markdown",
   "metadata": {},
   "source": [
    "#### Levene's test"
   ]
  },
  {
   "cell_type": "code",
   "execution_count": 20,
   "metadata": {},
   "outputs": [
    {
     "data": {
      "text/html": [
       "<div>\n",
       "<style scoped>\n",
       "    .dataframe tbody tr th:only-of-type {\n",
       "        vertical-align: middle;\n",
       "    }\n",
       "\n",
       "    .dataframe tbody tr th {\n",
       "        vertical-align: top;\n",
       "    }\n",
       "\n",
       "    .dataframe thead th {\n",
       "        text-align: right;\n",
       "    }\n",
       "</style>\n",
       "<table border=\"1\" class=\"dataframe\">\n",
       "  <thead>\n",
       "    <tr style=\"text-align: right;\">\n",
       "      <th></th>\n",
       "      <th>W</th>\n",
       "      <th>pval</th>\n",
       "      <th>equal_var</th>\n",
       "    </tr>\n",
       "  </thead>\n",
       "  <tbody>\n",
       "    <tr>\n",
       "      <th>levene</th>\n",
       "      <td>3.571863</td>\n",
       "      <td>0.06662</td>\n",
       "      <td>True</td>\n",
       "    </tr>\n",
       "  </tbody>\n",
       "</table>\n",
       "</div>"
      ],
      "text/plain": [
       "               W     pval  equal_var\n",
       "levene  3.571863  0.06662       True"
      ]
     },
     "execution_count": 20,
     "metadata": {},
     "output_type": "execute_result"
    }
   ],
   "source": [
    "pg.homoscedasticity(data=cfu, dv=\"cfu\", group=\"Box\")"
   ]
  },
  {
   "cell_type": "markdown",
   "metadata": {},
   "source": [
    "#### ANOVA (Kruskal-Wallis)"
   ]
  },
  {
   "cell_type": "code",
   "execution_count": 21,
   "metadata": {},
   "outputs": [
    {
     "data": {
      "text/html": [
       "<div>\n",
       "<style scoped>\n",
       "    .dataframe tbody tr th:only-of-type {\n",
       "        vertical-align: middle;\n",
       "    }\n",
       "\n",
       "    .dataframe tbody tr th {\n",
       "        vertical-align: top;\n",
       "    }\n",
       "\n",
       "    .dataframe thead th {\n",
       "        text-align: right;\n",
       "    }\n",
       "</style>\n",
       "<table border=\"1\" class=\"dataframe\">\n",
       "  <thead>\n",
       "    <tr style=\"text-align: right;\">\n",
       "      <th></th>\n",
       "      <th>Source</th>\n",
       "      <th>ddof1</th>\n",
       "      <th>H</th>\n",
       "      <th>p-unc</th>\n",
       "    </tr>\n",
       "  </thead>\n",
       "  <tbody>\n",
       "    <tr>\n",
       "      <th>Kruskal</th>\n",
       "      <td>Box</td>\n",
       "      <td>1</td>\n",
       "      <td>23.644101</td>\n",
       "      <td>0.000001</td>\n",
       "    </tr>\n",
       "  </tbody>\n",
       "</table>\n",
       "</div>"
      ],
      "text/plain": [
       "        Source  ddof1          H     p-unc\n",
       "Kruskal    Box      1  23.644101  0.000001"
      ]
     },
     "execution_count": 21,
     "metadata": {},
     "output_type": "execute_result"
    }
   ],
   "source": [
    "aov = pg.kruskal(data=cfu, dv=\"cfu\", between=\"Box\")\n",
    "\n",
    "aov"
   ]
  },
  {
   "cell_type": "markdown",
   "metadata": {},
   "source": [
    "#### Pairwise non-parametric tests"
   ]
  },
  {
   "cell_type": "code",
   "execution_count": 22,
   "metadata": {},
   "outputs": [
    {
     "data": {
      "text/html": [
       "<div>\n",
       "<style scoped>\n",
       "    .dataframe tbody tr th:only-of-type {\n",
       "        vertical-align: middle;\n",
       "    }\n",
       "\n",
       "    .dataframe tbody tr th {\n",
       "        vertical-align: top;\n",
       "    }\n",
       "\n",
       "    .dataframe thead th {\n",
       "        text-align: right;\n",
       "    }\n",
       "</style>\n",
       "<table border=\"1\" class=\"dataframe\">\n",
       "  <thead>\n",
       "    <tr style=\"text-align: right;\">\n",
       "      <th></th>\n",
       "      <th>Contrast</th>\n",
       "      <th>A</th>\n",
       "      <th>B</th>\n",
       "      <th>Paired</th>\n",
       "      <th>Parametric</th>\n",
       "      <th>U-val</th>\n",
       "      <th>alternative</th>\n",
       "      <th>p-unc</th>\n",
       "      <th>cohen</th>\n",
       "    </tr>\n",
       "  </thead>\n",
       "  <tbody>\n",
       "    <tr>\n",
       "      <th>0</th>\n",
       "      <td>Box</td>\n",
       "      <td>Control</td>\n",
       "      <td>E. coli</td>\n",
       "      <td>False</td>\n",
       "      <td>False</td>\n",
       "      <td>31.0</td>\n",
       "      <td>two-sided</td>\n",
       "      <td>0.000001</td>\n",
       "      <td>-0.606573</td>\n",
       "    </tr>\n",
       "  </tbody>\n",
       "</table>\n",
       "</div>"
      ],
      "text/plain": [
       "  Contrast        A        B  Paired  Parametric  U-val alternative     p-unc  \\\n",
       "0      Box  Control  E. coli   False       False   31.0   two-sided  0.000001   \n",
       "\n",
       "      cohen  \n",
       "0 -0.606573  "
      ]
     },
     "execution_count": 22,
     "metadata": {},
     "output_type": "execute_result"
    }
   ],
   "source": [
    "stats = pg.pairwise_tests(\n",
    "    data=cfu,\n",
    "    dv=\"cfu\",\n",
    "    between=\"Box\",\n",
    "    effsize=\"cohen\",\n",
    "    parametric=False,\n",
    "    padjust=\"fdr_bh\",\n",
    ")\n",
    "\n",
    "stats"
   ]
  },
  {
   "cell_type": "markdown",
   "metadata": {},
   "source": [
    "### Plot"
   ]
  },
  {
   "cell_type": "code",
   "execution_count": 24,
   "metadata": {},
   "outputs": [
    {
     "name": "stdout",
     "output_type": "stream",
     "text": [
      "p-value annotation legend:\n",
      "      ns: 5.00e-02 < p <= 1.00e+00\n",
      "       *: 1.00e-02 < p <= 5.00e-02\n",
      "      **: 1.00e-03 < p <= 1.00e-02\n",
      "     ***: p <= 1.00e-03\n",
      "\n",
      "Control vs. E. coli: Custom statistical test, P_val:1.252e-06\n"
     ]
    },
    {
     "data": {
      "image/png": "[encoded data removed]",
      "text/plain": [
       "<Figure size 262.903x262.903 with 1 Axes>"
      ]
     },
     "metadata": {},
     "output_type": "display_data"
    }
   ],
   "source": [
    "fig, ax = plt.subplots(figsize=set_size(190, \"s\"))\n",
    "\n",
    "cfu[\"cfu_plus_one\"] = cfu[\"cfu\"].apply(lambda x: x + 1)\n",
    "\n",
    "plot_params = dict(x=\"Box\", y=\"cfu_plus_one\", data=cfu, order=[\"Control\", \"E. coli\"])\n",
    "\n",
    "sns.boxplot(**plot_params, palette=PALETTE, showfliers=False)\n",
    "\n",
    "sns.stripplot(\n",
    "    **plot_params,\n",
    "    color=\"k\",\n",
    "    alpha=0.25,\n",
    ")\n",
    "\n",
    "ax.set_yscale(\"log\")\n",
    "\n",
    "annotate_plot(ax, plot_params, stats[\"p-unc\"])\n",
    "\n",
    "ax.set_ylabel(\"E. coli cfu/gram of lung\")\n",
    "ax.set_xlabel(\"\")\n",
    "clear_axes()\n",
    "plt.savefig(\"img/cfu.pdf\", format=\"pdf\", bbox_inches=\"tight\", pad_inches=0)\n",
    "\n",
    "plt.show()"
   ]
  },
  {
   "cell_type": "markdown",
   "metadata": {},
   "source": [
    "# DLC analysis"
   ]
  },
  {
   "cell_type": "code",
   "execution_count": 66,
   "metadata": {},
   "outputs": [],
   "source": [
    "vars_ = [\"travel\", \"delta_area\", \"near_food\"]\n",
    "\n",
    "ylabels = [\n",
    "    \"Distance travelled\\n(px/px; normalised)\",\n",
    "    \"Change in body area\\n(px$^2$/px; normalised)\",\n",
    "    \"Time spent near\\nfood source (\\%)\",\n",
    "]"
   ]
  },
  {
   "cell_type": "code",
   "execution_count": 67,
   "metadata": {},
   "outputs": [
    {
     "data": {
      "image/png": "[encoded data removed]",
      "text/plain": [
       "<Figure size 221.392x221.392 with 1 Axes>"
      ]
     },
     "metadata": {},
     "output_type": "display_data"
    },
    {
     "data": {
      "image/png": "[encoded data removed]",
      "text/plain": [
       "<Figure size 221.392x221.392 with 1 Axes>"
      ]
     },
     "metadata": {},
     "output_type": "display_data"
    },
    {
     "data": {
      "image/png": "[encoded data removed]",
      "text/plain": [
       "<Figure size 221.392x221.392 with 1 Axes>"
      ]
     },
     "metadata": {},
     "output_type": "display_data"
    }
   ],
   "source": [
    "for i, var in enumerate(vars_):\n",
    "    _, ax = plt.subplots(figsize=set_size(160, \"s\"))\n",
    "    data = (\n",
    "        pd.read_csv(glob(f\"data/*/summary_{var}.csv\")[0])\n",
    "        .dropna()\n",
    "        .reset_index(drop=True)\n",
    "    )\n",
    "\n",
    "    preds = (\n",
    "        pd.read_csv(f\"data/brms/preds/{var}.csv\", index_col=0)\n",
    "        .dropna()\n",
    "        .reset_index(drop=True)\n",
    "    )\n",
    "\n",
    "    preds[\"camera\"] = data[\"camera\"].map({2: \"Control\", 1: \"E. coli\"})\n",
    "\n",
    "    plot_params = dict(\n",
    "        x=\"camera\",\n",
    "        y=\"Estimate\",\n",
    "        data=preds,\n",
    "        order=[\"Control\", \"E. coli\"],\n",
    "        ax=ax\n",
    "    )\n",
    "\n",
    "    sns.boxplot(**plot_params, hue=\"camera\", palette=PALETTE, showfliers=False)\n",
    "\n",
    "    sns.stripplot(\n",
    "        **plot_params,\n",
    "        color=\"k\",\n",
    "        size=3,\n",
    "        alpha=0.2,\n",
    "    )\n",
    "\n",
    "    plot_params[\"data\"] = preds.iloc[data.query(\"Day == 1.0\").index]\n",
    "\n",
    "    sns.stripplot(\n",
    "        **plot_params,\n",
    "        color=\"darkred\",\n",
    "        size=3,\n",
    "        alpha=0.4,\n",
    "    )\n",
    "\n",
    "    if var == \"near_food\":\n",
    "        ax.yaxis.set_major_formatter(mticker.PercentFormatter(xmax=1))\n",
    "\n",
    "    clear_axes(ax)\n",
    "\n",
    "    ax.set_xlabel(\"\")\n",
    "    ax.set_ylabel(\"\")\n",
    "    plt.savefig(f\"img/{var}_pred.pdf\", format=\"pdf\", bbox_inches=\"tight\", pad_inches=0)\n",
    "\n",
    "#     fig.add_subplot(ax)\n",
    "\n",
    "# fig.tight_layout()\n",
    "# plt.savefig(\"img/brms_res_part1.pdf\", format=\"pdf\", bbox_inches=\"tight\", pad_inches=0)\n",
    "# plt.subplots_adjust(hspace=0.4)\n",
    "    plt.show()"
   ]
  },
  {
   "cell_type": "code",
   "execution_count": 70,
   "metadata": {},
   "outputs": [
    {
     "data": {
      "image/png": "[encoded data removed]",
      "text/plain": [
       "<Figure size 660x220 with 3 Axes>"
      ]
     },
     "metadata": {},
     "output_type": "display_data"
    }
   ],
   "source": [
    "fig, axs = plt.subplots(1, len(vars_), figsize=(6.6, 2.2))\n",
    "\n",
    "for i, var in enumerate(vars_):\n",
    "    data = (\n",
    "        pd.read_csv(glob(f\"data/*/summary_{var}.csv\")[0])\n",
    "        .dropna()\n",
    "        .reset_index(drop=True)\n",
    "    )\n",
    "\n",
    "    preds = (\n",
    "        pd.read_csv(f\"data/brms/preds/{var}.csv\", index_col=0)\n",
    "        .dropna()\n",
    "        .reset_index(drop=True)\n",
    "    )\n",
    "\n",
    "    preds[\"camera\"] = data[\"camera\"].map({2: \"Control\", 1: \"E. coli\"})\n",
    "\n",
    "    plot_params = dict(\n",
    "        x=\"camera\",\n",
    "        y=\"Estimate\",\n",
    "        data=preds,\n",
    "        order=[\"Control\", \"E. coli\"],\n",
    "        ax=axs[i]\n",
    "    )\n",
    "\n",
    "    sns.boxplot(**plot_params, hue=\"camera\", palette=PALETTE, showfliers=False)\n",
    "\n",
    "    sns.stripplot(\n",
    "        **plot_params,\n",
    "        color=\"k\",\n",
    "        size=3,\n",
    "        alpha=0.2,\n",
    "    )\n",
    "\n",
    "    plot_params[\"data\"] = preds.iloc[data.query(\"Day == 1.0\").index]\n",
    "\n",
    "    sns.stripplot(\n",
    "        **plot_params,\n",
    "        color=\"darkred\",\n",
    "        size=3,\n",
    "        alpha=0.4,\n",
    "    )\n",
    "\n",
    "    axs[i].set_ylabel(ylabels[i])\n",
    "    axs[i].set_xlabel(\"\")\n",
    "\n",
    "    if var == \"near_food\":\n",
    "        axs[i].yaxis.set_major_formatter(mticker.PercentFormatter(xmax=1))\n",
    "\n",
    "    clear_axes(axs[i])\n",
    "\n",
    "fig.suptitle(\"Posterior distributions\", y=0.9)\n",
    "fig.tight_layout()\n",
    "plt.savefig(\"img/brms_res_part1.pdf\", format=\"pdf\", bbox_inches=\"tight\", pad_inches=0)\n",
    "plt.show()"
   ]
  },
  {
   "cell_type": "code",
   "execution_count": 71,
   "metadata": {},
   "outputs": [
    {
     "data": {
      "image/png": "[encoded data removed]",
      "text/plain": [
       "<Figure size 660x110 with 3 Axes>"
      ]
     },
     "metadata": {},
     "output_type": "display_data"
    }
   ],
   "source": [
    "fig, axs = plt.subplots(1, len(vars_), figsize=(6.6, 1.1))\n",
    "\n",
    "colors = [PALETTE[\"E. coli\"]]\n",
    "\n",
    "for i, var in enumerate(vars_):\n",
    "    res = pd.read_csv(\n",
    "        f\"data/brms/results/{var}.csv\",\n",
    "        index_col=0\n",
    "    ).reset_index(\n",
    "        names=\"Group\"\n",
    "    )\n",
    "\n",
    "    res.Group = res.Group.apply(\n",
    "        lambda x: x.replace(\"camera_new\", \"\").replace(\"E.coli\", \"E. coli\")\n",
    "    )\n",
    "\n",
    "    res2 = res.query(\"Group != 'Intercept'\")\n",
    "\n",
    "    res2.plot(\n",
    "        y=\"Group\",\n",
    "        x=\"Estimate\",\n",
    "        xerr=[\n",
    "            [\n",
    "                res2[\"Estimate\"].sub(res2[\"l-95% CI\"]),\n",
    "                res2[\"u-95% CI\"].sub(res2[\"Estimate\"]),\n",
    "            ]\n",
    "        ],\n",
    "        kind=\"scatter\",\n",
    "        ax=axs[i],\n",
    "        s=50,\n",
    "        color=colors,\n",
    "    )\n",
    "\n",
    "    for j, line in enumerate(axs[i].collections[1::2]):\n",
    "        line.set_color(colors)\n",
    "        line.set_linewidth(3)\n",
    "        line.capsize = 10\n",
    "\n",
    "    axs[i].axvline(0, color=\"k\", linestyle=\"dashed\", alpha=0.3)\n",
    "    axs[i].set_xlabel(f\"{ylabels[i]}\")\n",
    "    axs[i].set_ylabel(\"\")\n",
    "    axs[i].margins(0.1)\n",
    "\n",
    "    axs[i].spines[\"bottom\"].set_position(\"center\")\n",
    "    axs[i].set_yticks([], [])\n",
    "\n",
    "clear_axes(left=True)\n",
    "fig.suptitle(\n",
    "    \"Estimates: E. coli vs. Control (reference)\", y=0.8, fontsize=12\n",
    ")\n",
    "fig.tight_layout()\n",
    "plt.savefig(\"img/brms_res_part2.pdf\", format=\"pdf\", bbox_inches=\"tight\", pad_inches=0)\n",
    "plt.show()"
   ]
  },
  {
   "cell_type": "markdown",
   "metadata": {},
   "source": [
    "3rd part of the plot was realised in R (cf. analysis.R)"
   ]
  },
  {
   "cell_type": "markdown",
   "metadata": {},
   "source": [
    "# Optical flow analysis"
   ]
  },
  {
   "cell_type": "code",
   "execution_count": 87,
   "metadata": {},
   "outputs": [],
   "source": [
    "def aggregate_optical_flow_results():\n",
    "    files = glob(\"data/of/*.pt\")\n",
    "\n",
    "    stats = [\"mean\", \"std\", \"skew\", \"kurt\"]\n",
    "\n",
    "    data = {}\n",
    "\n",
    "    for f in files:\n",
    "        file_data = torch.load(f, weights_only=False).cpu().numpy()\n",
    "\n",
    "        key = Path(f).stem\n",
    "\n",
    "        data[key] = {\n",
    "            stats[i]: smooth_signal(file_data[:, i], mode=\"medfilt\")\n",
    "            for i in range(len(stats))\n",
    "        }\n",
    "\n",
    "        data[key][\"cv\"] = data[key][\"std\"] / (data[key][\"mean\"] + np.finfo(float).eps)\n",
    "\n",
    "    of_agg = {}\n",
    "\n",
    "    for key in sorted(data.keys()):\n",
    "        of_agg[key] = {}\n",
    "\n",
    "        for stat in data[key].keys():\n",
    "\n",
    "            if stat == \"std\":\n",
    "                of_agg[key][f\"mean_var\"] = np.mean(data[key][stat]) ** 2\n",
    "            else:\n",
    "                of_agg[key][f\"mean_{stat}\"] = np.mean(data[key][stat])\n",
    "\n",
    "    of_agg = pd.DataFrame.from_dict(of_agg, orient=\"index\").reset_index(names=\"file\")\n",
    "\n",
    "    of_agg[\"camera\"] = of_agg.file.apply(lambda x: x.split(\"_\")[1])\n",
    "\n",
    "    of_agg[\"group\"] = of_agg.camera.map(\n",
    "        dict(map(lambda x: tuple(x.split(\": \")), CAMERA_LABELS))\n",
    "    )\n",
    "\n",
    "    of_agg.sort_values(by=\"camera\", inplace=True)\n",
    "\n",
    "    return of_agg\n",
    "\n",
    "of_agg = aggregate_optical_flow_results()"
   ]
  },
  {
   "cell_type": "code",
   "execution_count": 88,
   "metadata": {},
   "outputs": [
    {
     "data": {
      "text/html": [
       "<div>\n",
       "<style scoped>\n",
       "    .dataframe tbody tr th:only-of-type {\n",
       "        vertical-align: middle;\n",
       "    }\n",
       "\n",
       "    .dataframe tbody tr th {\n",
       "        vertical-align: top;\n",
       "    }\n",
       "\n",
       "    .dataframe thead th {\n",
       "        text-align: right;\n",
       "    }\n",
       "</style>\n",
       "<table border=\"1\" class=\"dataframe\">\n",
       "  <thead>\n",
       "    <tr style=\"text-align: right;\">\n",
       "      <th></th>\n",
       "      <th>video</th>\n",
       "      <th>Day</th>\n",
       "      <th>travel</th>\n",
       "    </tr>\n",
       "  </thead>\n",
       "  <tbody>\n",
       "    <tr>\n",
       "      <th>0</th>\n",
       "      <td>GX012_1</td>\n",
       "      <td>1.0</td>\n",
       "      <td>0.031379</td>\n",
       "    </tr>\n",
       "    <tr>\n",
       "      <th>1</th>\n",
       "      <td>GX013_1</td>\n",
       "      <td>1.5</td>\n",
       "      <td>0.015309</td>\n",
       "    </tr>\n",
       "    <tr>\n",
       "      <th>2</th>\n",
       "      <td>GX014_1</td>\n",
       "      <td>2.0</td>\n",
       "      <td>0.020543</td>\n",
       "    </tr>\n",
       "    <tr>\n",
       "      <th>3</th>\n",
       "      <td>GX015_1</td>\n",
       "      <td>2.5</td>\n",
       "      <td>0.026860</td>\n",
       "    </tr>\n",
       "    <tr>\n",
       "      <th>4</th>\n",
       "      <td>GX016_1</td>\n",
       "      <td>3.0</td>\n",
       "      <td>0.013042</td>\n",
       "    </tr>\n",
       "  </tbody>\n",
       "</table>\n",
       "</div>"
      ],
      "text/plain": [
       "     video  Day    travel\n",
       "0  GX012_1  1.0  0.031379\n",
       "1  GX013_1  1.5  0.015309\n",
       "2  GX014_1  2.0  0.020543\n",
       "3  GX015_1  2.5  0.026860\n",
       "4  GX016_1  3.0  0.013042"
      ]
     },
     "execution_count": 88,
     "metadata": {},
     "output_type": "execute_result"
    }
   ],
   "source": [
    "summary_travel = pd.read_csv(\"data/dlc/summary_travel.csv\")\n",
    "\n",
    "summary_travel_agg = summary_travel.groupby(\n",
    "    [\"video\", \"Day\"], as_index=False\n",
    ").travel.agg(\"mean\")\n",
    "\n",
    "summary_travel_agg.head()"
   ]
  },
  {
   "cell_type": "code",
   "execution_count": 89,
   "metadata": {},
   "outputs": [
    {
     "data": {
      "image/png": "[encoded data removed]",
      "text/plain": [
       "<Figure size 262.903x262.903 with 1 Axes>"
      ]
     },
     "metadata": {},
     "output_type": "display_data"
    }
   ],
   "source": [
    "merged_df = pd.merge(\n",
    "    of_agg, summary_travel_agg, left_on=\"file\", right_on=\"video\"\n",
    ")\n",
    "\n",
    "_, ax = plt.subplots(1, 1, figsize=set_size(190, \"s\"))\n",
    "\n",
    "sns.regplot(\n",
    "    x=\"travel\",\n",
    "    y=\"mean_mean\",\n",
    "    color=\"k\",\n",
    "    data=merged_df,\n",
    ")\n",
    "plt.xlabel(\"Distance travelled (mean)\")\n",
    "plt.ylabel(\"Optical flow (mean)\")\n",
    "sns.despine()\n",
    "clear_axes()\n",
    "\n",
    "# Calculate Pearson correlation\n",
    "corr_stats = pg.corr(merged_df.travel, merged_df.loc[:, f\"mean_mean\"]).squeeze()\n",
    "# corr, p_value = pearsonr(merged_df.travel, merged_df.loc[:, f\"mean_mean\"])\n",
    "\n",
    "# Add legend with correlation and p-value\n",
    "legend_text = f\"$r$ = {corr_stats['r']:.3f}, $p$ = {corr_stats['p-val']:.3f}\"\n",
    "plt.legend([legend_text], loc=\"upper left\", frameon=True, fontsize=9)\n",
    "plt.savefig(\n",
    "    \"img/distance_travelled_vs_of.pdf\",\n",
    "    format=\"pdf\",\n",
    "    bbox_inches=\"tight\",\n",
    "    pad_inches=0,\n",
    ")\n",
    "plt.show()"
   ]
  },
  {
   "cell_type": "code",
   "execution_count": 90,
   "metadata": {},
   "outputs": [
    {
     "data": {
      "text/plain": [
       "n                 10\n",
       "r           0.635722\n",
       "CI95%    [0.01, 0.9]\n",
       "p-val       0.048208\n",
       "BF10           2.168\n",
       "power       0.543963\n",
       "Name: pearson, dtype: object"
      ]
     },
     "execution_count": 90,
     "metadata": {},
     "output_type": "execute_result"
    }
   ],
   "source": [
    "corr_stats"
   ]
  },
  {
   "cell_type": "code",
   "execution_count": 92,
   "metadata": {},
   "outputs": [
    {
     "name": "stdout",
     "output_type": "stream",
     "text": [
      "0.9649441255284699\n",
      "0.9626573537024876\n"
     ]
    },
    {
     "data": {
      "image/png": "[encoded data removed]",
      "text/plain": [
       "<Figure size 330x250 with 1 Axes>"
      ]
     },
     "metadata": {},
     "output_type": "display_data"
    }
   ],
   "source": [
    "for group, color in PALETTE.items():\n",
    "    sub_df = merged_df.query(\"group == @group\")\n",
    "\n",
    "    x1 = sub_df.travel\n",
    "\n",
    "    x2 = sub_df.loc[:, \"mean_mean\"]\n",
    "\n",
    "    corr = correlate(x1, x2, mode=\"full\")\n",
    "\n",
    "    corr /= np.sqrt(np.sum(x1**2) * np.sum(x2**2))\n",
    "\n",
    "    lags = correlation_lags(sub_df.shape[0], sub_df.shape[0]) / 2\n",
    "\n",
    "    print(corr.max())\n",
    "\n",
    "    plt.plot(lags, corr, linestyle=\"dashed\", marker=\"o\", color=color, label=group)\n",
    "\n",
    "plt.xlabel(\"Lag (days)\")\n",
    "plt.ylabel(\"Normalised cross-correlation\\n(x1=travel, x2=optical flow)\")\n",
    "plt.legend()\n",
    "clear_axes()\n",
    "plt.savefig(\"img/ncc.pdf\", format=\"pdf\", bbox_inches=\"tight\", pad_inches=0)\n",
    "plt.show()"
   ]
  },
  {
   "cell_type": "code",
   "execution_count": 94,
   "metadata": {},
   "outputs": [
    {
     "data": {
      "image/png": "[encoded data removed]",
      "text/plain": [
       "<Figure size 498.132x307.863 with 2 Axes>"
      ]
     },
     "metadata": {},
     "output_type": "display_data"
    }
   ],
   "source": [
    "_, ax = plt.subplots(1, 1, figsize=set_size(360, \"h\"))\n",
    "\n",
    "summary_travel[\"group\"] = summary_travel.camera.astype(str).map(\n",
    "    dict(map(lambda x: tuple(x.split(\": \")), CAMERA_LABELS))\n",
    ")\n",
    "\n",
    "sns.lineplot(\n",
    "    data=summary_travel,\n",
    "    x=\"Day\",\n",
    "    y=\"travel\",\n",
    "    hue=\"group\",\n",
    "    palette=\"pastel\",\n",
    "    linestyle=\"dashed\",\n",
    "    marker=\"o\",\n",
    "    markersize=5,\n",
    "    seed=42,\n",
    "    err_kws={\"alpha\": 0.1},\n",
    ")\n",
    "\n",
    "ax.set_ylabel(f\"Distance travelled (DLC; mean)\")\n",
    "clear_axes()\n",
    "\n",
    "ax1 = plt.twinx()\n",
    "\n",
    "sns.lineplot(\n",
    "    data=merged_df,\n",
    "    x=\"Day\",\n",
    "    y=f\"mean_mean\",\n",
    "    hue=\"group\",\n",
    "    ax=ax1,\n",
    "    palette=\"dark\",\n",
    "    linestyle=\"dashed\",\n",
    "    marker=\"d\",\n",
    "    markersize=5,\n",
    ")\n",
    "\n",
    "clear_axes(ax1, left=True, right=False)\n",
    "ax1.set_ylabel(f\"Optical flow (OF; mean)\")\n",
    "\n",
    "handles1, labels1 = ax1.get_legend_handles_labels()\n",
    "\n",
    "ax.legend(\n",
    "    title=\"DLC\",\n",
    "    frameon=False,\n",
    "    markerfirst=False,\n",
    "    bbox_to_anchor=(0.135, 1.03),\n",
    "    loc=\"upper center\",\n",
    "    fontsize=8,\n",
    "    title_fontsize=9,\n",
    ")._legend_box.align = \"right\"\n",
    "ax1.legend(\n",
    "    handles=handles1,\n",
    "    labels=[\"\"] * len(handles1),\n",
    "    title=\"OF\",\n",
    "    frameon=False,\n",
    "    bbox_to_anchor=(0.29, 1.03),\n",
    "    loc=\"upper center\",\n",
    "    fontsize=8,\n",
    "    title_fontsize=9,\n",
    ")._legend_box.align = \"left\"\n",
    "\n",
    "# Create a Rectangle patch\n",
    "rect = mpatches.Rectangle(\n",
    "    xy=(0.985, 0.068),\n",
    "    width=0.6,\n",
    "    height=0.0155,\n",
    "    linewidth=1,\n",
    "    edgecolor=\"k\",\n",
    "    facecolor=\"none\",\n",
    ")\n",
    "\n",
    "# Add the patch to the Axes\n",
    "ax.add_patch(rect)\n",
    "\n",
    "plt.savefig(\n",
    "    \"img/distance_travelled_vs_time.pdf\",\n",
    "    format=\"pdf\",\n",
    "    bbox_inches=\"tight\",\n",
    "    pad_inches=0,\n",
    ")\n",
    "\n",
    "plt.show()"
   ]
  }
 ],
 "metadata": {
  "kernelspec": {
   "display_name": "sam2",
   "language": "python",
   "name": "python3"
  },
  "language_info": {
   "codemirror_mode": {
    "name": "ipython",
    "version": 3
   },
   "file_extension": ".py",
   "mimetype": "text/x-python",
   "name": "python",
   "nbconvert_exporter": "python",
   "pygments_lexer": "ipython3",
   "version": "3.10.10"
  }
 },
 "nbformat": 4,
 "nbformat_minor": 2
}
